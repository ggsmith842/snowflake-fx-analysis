{
 "cells": [
  {
   "cell_type": "code",
   "execution_count": null,
   "id": "3775908f-ca36-4846-8f38-5adca39217f2",
   "metadata": {
    "language": "python",
    "name": "imports"
   },
   "outputs": [],
   "source": [
    "# Import python packages\n",
    "import modin.pandas as pd\n",
    "import snowflake.snowpark.modin.plugin\n",
    "\n",
    "import plotly.express as px\n",
    "\n",
    "from sklearn.preprocessing import MinMaxScaler\n",
    "\n",
    "# Set snowpark session\n",
    "from snowflake.snowpark.context import get_active_session\n",
    "session = get_active_session()\n"
   ]
  },
  {
   "cell_type": "code",
   "execution_count": null,
   "id": "a8b05814-f4c3-480f-bb01-1749811f68ca",
   "metadata": {
    "language": "sql",
    "name": "indicators",
    "vscode": {
     "languageId": "sql"
    }
   },
   "outputs": [],
   "source": [
    "SELECT \n",
    "    t.geo_name as country,\n",
    "    t.date,\n",
    "    t.value AS trade_bal,\n",
    "    r.value AS reserve_bal,\n",
    "    gg.value AS gdp_growth, -- as % QoQ\n",
    "    gr.value AS debt_gdp_ratio,\n",
    "    i.real_interest_rate\n",
    "FROM FX_INVESTMENT.MACROECON.TRADE_BALANCE t\n",
    "JOIN FX_INVESTMENT.MACROECON.RESERVES r\n",
    "ON t.geo_name = r.GEO_NAME and t.date = r.date\n",
    "JOIN FX_INVESTMENT.MACROECON.GDP_GROWTH gg \n",
    "on t.geo_name = gg.geo_name and t.date = gg.date\n",
    "JOIN FX_INVESTMENT.MACROECON.GDP_RATIOS gr\n",
    "ON t.geo_name = gr.geo_name AND t.date = gr.date\n",
    "JOIN FX_INVESTMENT.MACROECON.REAL_INTEREST_RATES i \n",
    "ON t.geo_name = i.country AND t.date = i.date\n",
    "WHERE gr.indicator = 'debt_to_gdp_ratio'\n",
    "ORDER BY country, date\n",
    ";"
   ]
  },
  {
   "cell_type": "code",
   "execution_count": null,
   "id": "daf7fe17-7100-4a59-85b3-2c8d601be583",
   "metadata": {
    "language": "python",
    "name": "create_df"
   },
   "outputs": [],
   "source": [
    "indicators_df = indicators.to_pandas()\n",
    "indicator_cols = ['TRADE_BAL', 'RESERVE_BAL', 'GDP_GROWTH', 'DEBT_GDP_RATIO', 'REAL_INTEREST_RATE']\n",
    "indicators_df.head()"
   ]
  },
  {
   "cell_type": "code",
   "execution_count": null,
   "id": "661d632f-c251-41e0-a3ee-825bea8293a9",
   "metadata": {
    "codeCollapsed": false,
    "language": "python",
    "name": "df_stats"
   },
   "outputs": [],
   "source": [
    "indicators_df.describe()"
   ]
  },
  {
   "cell_type": "code",
   "execution_count": null,
   "id": "02a5e5cb-e0fd-4540-9a3c-c601e69bb685",
   "metadata": {
    "codeCollapsed": false,
    "language": "python",
    "name": "normalize_data"
   },
   "outputs": [],
   "source": [
    "# normalize indicator columns using MinMax scaler\n",
    "scaler = MinMaxScaler()\n",
    "scaled_indicators = scaler.fit_transform(indicators_df[indicator_cols])\n",
    "\n",
    "indicators_df[indicator_cols] = scaled_indicators\n",
    "indicators_df.head()"
   ]
  },
  {
   "cell_type": "code",
   "execution_count": null,
   "id": "8d944efc-97b3-49f7-8c25-8c375903f7d3",
   "metadata": {
    "codeCollapsed": false,
    "language": "python",
    "name": "create_debt_score"
   },
   "outputs": [],
   "source": [
    "indicators_df['DEBT_SCORE'] = 1 - indicators_df['DEBT_GDP_RATIO'] # a lower debt-to-gdp is better\n",
    "indicator_cols.append('DEBT_SCORE')\n",
    "indicator_cols.remove('DEBT_GDP_RATIO')\n",
    "\n",
    "indicators_df['FX_COMPOSITE_SCORE'] = indicators_df[indicator_cols].sum(axis=1)"
   ]
  },
  {
   "cell_type": "code",
   "execution_count": null,
   "id": "657dfdea-ece9-44e5-b659-5007fe5479a5",
   "metadata": {
    "language": "python",
    "name": "score_statistics"
   },
   "outputs": [],
   "source": [
    "indicators_df['FX_COMPOSITE_SCORE'].describe()"
   ]
  },
  {
   "cell_type": "code",
   "execution_count": null,
   "id": "df591a37-4369-4b74-acf5-c30e752c7c3d",
   "metadata": {
    "codeCollapsed": false,
    "language": "python",
    "name": "sort_df"
   },
   "outputs": [],
   "source": [
    "indicators_df = indicators_df.sort_values(by = ['COUNTRY', 'DATE'])"
   ]
  },
  {
   "cell_type": "code",
   "execution_count": null,
   "id": "d8a6f3e0-c28f-48b5-a55c-609378e7f0f1",
   "metadata": {
    "language": "python",
    "name": "visualize_score_trends"
   },
   "outputs": [],
   "source": [
    "fig = px.line(indicators_df,\n",
    "             x='DATE',\n",
    "             y='FX_COMPOSITE_SCORE',\n",
    "             color='COUNTRY')\n",
    "\n",
    "# Generate dropdown options dynamically\n",
    "countries = indicators_df['COUNTRY'].unique()\n",
    "buttons = [{\"label\": \"All Countries\", \"method\": \"update\", \"args\": [{\"visible\": [True] * len(countries)}, {\"title\": \"All Countries\"}]}]\n",
    "\n",
    "for i, country in enumerate(countries):\n",
    "    visibility = [j == i for j in range(len(countries))]\n",
    "    buttons.append({\"label\": country, \"method\": \"update\", \"args\": [{\"visible\": visibility}, {\"title\": country}]})\n",
    "\n",
    "# Add dropdown to the figure\n",
    "fig.update_layout(\n",
    "    updatemenus=[\n",
    "        {\n",
    "            \"buttons\": buttons,\n",
    "            \"direction\": \"down\",\n",
    "        }\n",
    "    ]\n",
    ")"
   ]
  },
  {
   "cell_type": "code",
   "execution_count": null,
   "id": "66fda442-6a2a-4ae6-8709-f2e26abd0222",
   "metadata": {
    "codeCollapsed": false,
    "language": "python",
    "name": "ranking_latest_scores"
   },
   "outputs": [],
   "source": [
    "# get the latest available score\n",
    "indicators_df.groupby(\"COUNTRY\") \\\n",
    "    .last()[['DATE', 'FX_COMPOSITE_SCORE']] \\\n",
    "    .sort_values(by='FX_COMPOSITE_SCORE', ascending = False)"
   ]
  },
  {
   "cell_type": "markdown",
   "id": "e55ba2e9-f025-4708-bc43-fcf43375bff1",
   "metadata": {
    "collapsed": false,
    "name": "summary"
   },
   "source": [
    "While the data is only as recent as the end of 2023, South Korea has the strongest FX Score which aligns with my initial submission.\n",
    "\n",
    "If my method is flawed, it's at least consistent. \n",
    "\n",
    "However, I would probably recommend investing in GBP or CAD as their scores are trending positvely upward but not peaked like the KRW. This makes me think there is more room for appreciation of the currencies."
   ]
  }
 ],
 "metadata": {
  "kernelspec": {
   "display_name": "Streamlit Notebook",
   "name": "streamlit"
  },
  "lastEditStatus": {
   "authorEmail": "grant.oferrell.smith@gmail.com",
   "authorId": "967038800647",
   "authorName": "GGSMITH",
   "lastEditTime": 1742849133236,
   "notebookId": "epx7phjepdpbucq2zsn7",
   "sessionId": "44c19395-98cc-4eec-becd-551581d5c994"
  }
 },
 "nbformat": 4,
 "nbformat_minor": 5
}
